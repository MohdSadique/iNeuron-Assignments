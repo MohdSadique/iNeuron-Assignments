{
  "nbformat": 4,
  "nbformat_minor": 0,
  "metadata": {
    "colab": {
      "name": "Assignment3.ipynb",
      "provenance": [],
      "collapsed_sections": [],
      "authorship_tag": "ABX9TyNlxCEBxro3lgEiFrd6udGb",
      "include_colab_link": true
    },
    "kernelspec": {
      "name": "python3",
      "display_name": "Python 3"
    },
    "language_info": {
      "name": "python"
    }
  },
  "cells": [
    {
      "cell_type": "markdown",
      "metadata": {
        "id": "view-in-github",
        "colab_type": "text"
      },
      "source": [
        "<a href=\"https://colab.research.google.com/github/MohdSadique/iNeuron-Assignments/blob/master/Assignment3.ipynb\" target=\"_parent\"><img src=\"https://colab.research.google.com/assets/colab-badge.svg\" alt=\"Open In Colab\"/></a>"
      ]
    },
    {
      "cell_type": "markdown",
      "source": [
        "1.1 Write a Python Program to implement your own myreduce() function which works exactly  like Python's built-in function reduce()"
      ],
      "metadata": {
        "id": "VT49k76pG2WE"
      }
    },
    {
      "cell_type": "code",
      "execution_count": 3,
      "metadata": {
        "colab": {
          "base_uri": "https://localhost:8080/"
        },
        "id": "2f38hKd0G1D8",
        "outputId": "5068e66e-5f5d-40ba-e00a-0103fefc4b8f"
      },
      "outputs": [
        {
          "output_type": "stream",
          "name": "stdout",
          "text": [
            "47\n",
            "47\n"
          ]
        }
      ],
      "source": [
        "def myreduce(function, sequence):\n",
        "    a = sequence[0]\n",
        "    b = sequence[1]\n",
        "    for i in range(2,len(sequence)) :\n",
        "        a = function(a,b)\n",
        "        b= sequence[i]\n",
        "    return a\n",
        "\n",
        "\n",
        "#Find the maximum of a sequence (This already exists as max())\n",
        "max_find = lambda a,b: a if (a > b) else b\n",
        "lst =[47,11,42,13]\n",
        "\n",
        "# inbuilt reduce\n",
        "from functools import reduce\n",
        "ans1 = reduce(max_find,lst)\n",
        "\n",
        "ans2 = myreduce(max_find,lst)\n",
        "\n",
        "print(ans1)\n",
        "print(ans2)"
      ]
    },
    {
      "cell_type": "markdown",
      "source": [
        "1.2 Write a Python program to implement your own myfilter() function which works exactly  like Python's built-in function filter() "
      ],
      "metadata": {
        "id": "OOJi10e6q3pE"
      }
    },
    {
      "cell_type": "code",
      "source": [
        "def myfilter(funct, seq):\n",
        "    ans = []\n",
        "    for ele in seq:\n",
        "        if funct(ele):\n",
        "            ans.append(ele)\n",
        "    return ans\n",
        "\n",
        "\n",
        "def even_check(num):\n",
        "    if num%2 ==0:\n",
        "        return True\n",
        "\n",
        "\n",
        "lst =[1,2,3,4,5,6,7,8]\n",
        "\n",
        "ans1 = list(filter(even_check,lst))\n",
        "\n",
        "ans2 = list(myfilter(even_check,lst))\n",
        "\n",
        "print(ans1)\n",
        "print(ans2)"
      ],
      "metadata": {
        "colab": {
          "base_uri": "https://localhost:8080/"
        },
        "id": "JJ3lRsLtq5tP",
        "outputId": "1a020d9d-a739-4f8b-a635-2382042b8a5d"
      },
      "execution_count": 4,
      "outputs": [
        {
          "output_type": "stream",
          "name": "stdout",
          "text": [
            "[2, 4, 6, 8]\n",
            "[2, 4, 6, 8]\n"
          ]
        }
      ]
    },
    {
      "cell_type": "markdown",
      "source": [
        "2. Implement List comprehensions to produce the following lists.  \n",
        "Write List comprehensions to produce the following Lists \n",
        "\n",
        "['A', 'C', 'A', 'D', 'G', 'I', ’L’, ‘ D’]\n",
        "\n",
        "['x', 'xx', 'xxx', 'xxxx', 'y', 'yy', 'yyy', 'yyyy', 'z', 'zz', 'zzz', 'zzzz']  \n",
        "['x', 'y', 'z', 'xx', 'yy', 'zz', 'xxx', 'yyy', 'zzz', 'xxxx', 'yyyy', 'zzzz']  \n",
        "[[2], [3], [4], [3], [4], [5], [4], [5], [6]]\n",
        "\n",
        "[[2, 3, 4, 5], [3, 4, 5, 6],  [4, 5, 6, 7], [5, 6, 7, 8]] \n"
      ],
      "metadata": {
        "id": "QwNTj4yRijXV"
      }
    },
    {
      "cell_type": "code",
      "source": [
        "l1 = [x for x in \"ACADGILD\"]\n",
        "print(l1)"
      ],
      "metadata": {
        "colab": {
          "base_uri": "https://localhost:8080/"
        },
        "id": "tzXlhnvdimuZ",
        "outputId": "01b9e3da-3f71-4992-9725-abe0446adc07"
      },
      "execution_count": 1,
      "outputs": [
        {
          "output_type": "stream",
          "name": "stdout",
          "text": [
            "['A', 'C', 'A', 'D', 'G', 'I', 'L', 'D']\n"
          ]
        }
      ]
    },
    {
      "cell_type": "code",
      "source": [
        "l2 = [x*i for x in ['x', 'y', 'z'] for i in range(1,5)]\n",
        "print(l2)"
      ],
      "metadata": {
        "colab": {
          "base_uri": "https://localhost:8080/"
        },
        "id": "Tnux0yUZk1DH",
        "outputId": "ffca403c-266c-4a3c-e652-f67263cd83ef"
      },
      "execution_count": 10,
      "outputs": [
        {
          "output_type": "stream",
          "name": "stdout",
          "text": [
            "['x', 'xx', 'xxx', 'xxxx', 'y', 'yy', 'yyy', 'yyyy', 'z', 'zz', 'zzz', 'zzzz']\n"
          ]
        }
      ]
    },
    {
      "cell_type": "code",
      "source": [
        "l3 = [x *i for i in range(1,5) for x in ['x','y','z']]\n",
        "l3"
      ],
      "metadata": {
        "colab": {
          "base_uri": "https://localhost:8080/"
        },
        "id": "wmchxFpdpQUw",
        "outputId": "06b77f3e-fcc4-457c-b853-2c847206d4fb"
      },
      "execution_count": 11,
      "outputs": [
        {
          "output_type": "execute_result",
          "data": {
            "text/plain": [
              "['x', 'y', 'z', 'xx', 'yy', 'zz', 'xxx', 'yyy', 'zzz', 'xxxx', 'yyyy', 'zzzz']"
            ]
          },
          "metadata": {},
          "execution_count": 11
        }
      ]
    },
    {
      "cell_type": "code",
      "source": [
        "l4 = [[x] for i in range(2,5) for x in range(i,i+3) ]\n",
        "print(l4)"
      ],
      "metadata": {
        "colab": {
          "base_uri": "https://localhost:8080/"
        },
        "id": "An61Xka-pQcD",
        "outputId": "56a6c7c1-c2d2-4b27-a913-b285166d6e57"
      },
      "execution_count": 13,
      "outputs": [
        {
          "output_type": "stream",
          "name": "stdout",
          "text": [
            "[[2], [3], [4], [3], [4], [5], [4], [5], [6]]\n"
          ]
        }
      ]
    },
    {
      "cell_type": "code",
      "source": [
        "l5 = [[x for x in range(i,i+3)] for i in range(2,5)  ]\n",
        "print(l5)"
      ],
      "metadata": {
        "colab": {
          "base_uri": "https://localhost:8080/"
        },
        "id": "q193xi1dpQi-",
        "outputId": "013473c3-af03-47e1-d21a-af23a9e1ee8a"
      },
      "execution_count": 16,
      "outputs": [
        {
          "output_type": "stream",
          "name": "stdout",
          "text": [
            "[[2, 3, 4], [3, 4, 5], [4, 5, 6]]\n"
          ]
        }
      ]
    },
    {
      "cell_type": "code",
      "source": [
        "temp = [x *i for i in range(1,5) for x in ['x','y','z']]\n",
        "temp"
      ],
      "metadata": {
        "colab": {
          "base_uri": "https://localhost:8080/"
        },
        "id": "FsCWxZvelSo9",
        "outputId": "a3828954-8de8-405e-d2b8-9fa6876c1863"
      },
      "execution_count": 9,
      "outputs": [
        {
          "output_type": "execute_result",
          "data": {
            "text/plain": [
              "['x', 'y', 'z', 'xx', 'yy', 'zz', 'xxx', 'yyy', 'zzz']"
            ]
          },
          "metadata": {},
          "execution_count": 9
        }
      ]
    },
    {
      "cell_type": "code",
      "source": [
        ""
      ],
      "metadata": {
        "id": "4Wa6CQoSmhCg"
      },
      "execution_count": null,
      "outputs": []
    }
  ]
}