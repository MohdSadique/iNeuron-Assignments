{
  "nbformat": 4,
  "nbformat_minor": 0,
  "metadata": {
    "colab": {
      "name": "Assignment2.ipynb",
      "provenance": [],
      "collapsed_sections": [],
      "authorship_tag": "ABX9TyNHwetzouT8wnAwzhNu22iQ",
      "include_colab_link": true
    },
    "kernelspec": {
      "name": "python3",
      "display_name": "Python 3"
    },
    "language_info": {
      "name": "python"
    }
  },
  "cells": [
    {
      "cell_type": "markdown",
      "metadata": {
        "id": "view-in-github",
        "colab_type": "text"
      },
      "source": [
        "<a href=\"https://colab.research.google.com/github/MohdSadique/iNeuron-Assignments/blob/master/Assignment2.ipynb\" target=\"_parent\"><img src=\"https://colab.research.google.com/assets/colab-badge.svg\" alt=\"Open In Colab\"/></a>"
      ]
    },
    {
      "cell_type": "markdown",
      "source": [
        "1. Create the below pattern using nested for loop in Python. \n",
        "\n",
        "\\* \\\n",
        "\\*  \\* \\\n",
        "\\* \\* \\* \\\n",
        "\\* \\* \\* \\* \\\n",
        "\\* \\* \\* \\* \\* \\\n",
        "\\* \\* \\* \\* \\\n",
        "\\* \\* \\* \\\n",
        "\\* \\* \\\n",
        "\\*\n"
      ],
      "metadata": {
        "id": "_n6AROpLwya0"
      }
    },
    {
      "cell_type": "code",
      "source": [
        "for i in range(1,6):\n",
        "    print('*' * i)\n",
        "for i in range(4,0,-1):\n",
        "    print('*' * i)"
      ],
      "metadata": {
        "colab": {
          "base_uri": "https://localhost:8080/"
        },
        "id": "_Xjvlsa0wzha",
        "outputId": "d124fcd8-90f2-4cea-f445-0ba5282ce0d5"
      },
      "execution_count": null,
      "outputs": [
        {
          "output_type": "stream",
          "name": "stdout",
          "text": [
            "*\n",
            "**\n",
            "***\n",
            "****\n",
            "*****\n",
            "****\n",
            "***\n",
            "**\n",
            "*\n"
          ]
        }
      ]
    },
    {
      "cell_type": "markdown",
      "source": [
        "2. Write a Python program to reverse a word after accepting the input from the user.\n",
        "Sample Output: norueni\n",
        "Input word: ineuron \n"
      ],
      "metadata": {
        "id": "HmCT8My31qIJ"
      }
    },
    {
      "cell_type": "code",
      "source": [
        "s = input()\n",
        "s = s[::-1]\n",
        "print(s)"
      ],
      "metadata": {
        "id": "YWh4TAkG1Ex_",
        "colab": {
          "base_uri": "https://localhost:8080/"
        },
        "outputId": "7514e52c-510a-44cb-f60a-c209a61b6490"
      },
      "execution_count": 3,
      "outputs": [
        {
          "output_type": "stream",
          "name": "stdout",
          "text": [
            "ineuron\n",
            "norueni\n"
          ]
        }
      ]
    },
    {
      "cell_type": "code",
      "source": [
        ""
      ],
      "metadata": {
        "id": "15ZLokwV1E4w"
      },
      "execution_count": null,
      "outputs": []
    }
  ]
}